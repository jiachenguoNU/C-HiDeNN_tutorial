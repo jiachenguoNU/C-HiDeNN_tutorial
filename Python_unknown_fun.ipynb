{
 "cells": [
  {
   "attachments": {},
   "cell_type": "markdown",
   "metadata": {},
   "source": [
    "#### This ipynb is used to test some functions that I'm not familiar with in python langugange## This ipynb is used to test some functions that I'm not familiar with in python langugange"
   ]
  },
  {
   "cell_type": "code",
   "execution_count": 75,
   "metadata": {},
   "outputs": [],
   "source": [
    "import jax.numpy as np\n",
    "import numpy as onp\n",
    "import jax\n",
    "from functools import partial"
   ]
  },
  {
   "cell_type": "code",
   "execution_count": 64,
   "metadata": {},
   "outputs": [],
   "source": [
    "def GaussSet(Gauss_Num = 2, cuda=False):\n",
    "    if Gauss_Num == 2:\n",
    "        Gauss_Weight1D = [1, 1]\n",
    "        Gauss_Point1D = [-1/np.sqrt(3), 1/np.sqrt(3)]\n",
    "       \n",
    "    elif Gauss_Num == 3:\n",
    "        Gauss_Weight1D = [0.55555556, 0.88888889, 0.55555556]\n",
    "        Gauss_Point1D = [-0.7745966, 0, 0.7745966]\n",
    "    return Gauss_Weight1D, Gauss_Point1D"
   ]
  },
  {
   "cell_type": "code",
   "execution_count": 65,
   "metadata": {},
   "outputs": [
    {
     "name": "stdout",
     "output_type": "stream",
     "text": [
      "[1, 1]\n",
      "[Array(-0.57735026, dtype=float32, weak_type=True), Array(0.57735026, dtype=float32, weak_type=True)]\n"
     ]
    }
   ],
   "source": [
    "Gauss_Weight1D, Gauss_Point1D = GaussSet()\n",
    "print(Gauss_Weight1D)\n",
    "print(Gauss_Point1D)"
   ]
  },
  {
   "attachments": {},
   "cell_type": "markdown",
   "metadata": {},
   "source": [
    "zip is used to unpack the variables individually"
   ]
  },
  {
   "cell_type": "code",
   "execution_count": 66,
   "metadata": {},
   "outputs": [
    {
     "name": "stdout",
     "output_type": "stream",
     "text": [
      "quad_points are [[Array(-0.57735026, dtype=float32, weak_type=True)], [Array(0.57735026, dtype=float32, weak_type=True)]]\n",
      "quad_weights are [1, 1]\n"
     ]
    }
   ],
   "source": [
    "quad_points, quad_weights = [], []\n",
    "for ipoint, iweight in zip(Gauss_Point1D, Gauss_Weight1D):\n",
    "    quad_points.append([ipoint])\n",
    "    quad_weights.append(iweight)\n",
    "print('quad_points are', quad_points)\n",
    "print('quad_weights are', quad_weights)"
   ]
  },
  {
   "attachments": {},
   "cell_type": "markdown",
   "metadata": {},
   "source": [
    "define a function in the code\n",
    "\n",
    "what is lambda here?\n",
    "\n",
    "lambda x: x + 1\n",
    "\n",
    "<function __main__.<lambda>(x)>"
   ]
  },
  {
   "cell_type": "code",
   "execution_count": 67,
   "metadata": {},
   "outputs": [
    {
     "data": {
      "text/plain": [
       "0.25"
      ]
     },
     "execution_count": 67,
     "metadata": {},
     "output_type": "execute_result"
    }
   ],
   "source": [
    "def get_shape_val_functions(elem_type):\n",
    "    \"\"\"Hard-coded first order shape functions in the parent domain.\n",
    "    Important: f1-f8 order must match \"self.cells\" by gmsh file!\n",
    "    \"\"\"\n",
    "    if elem_type == 'D1LN2N':\n",
    "        f1 = lambda x: 1./2.*(1 - x[0])\n",
    "        f2 = lambda x: 1./2.*(1 + x[0]) \n",
    "        shape_fun = [f1, f2]\n",
    "        \n",
    "    return shape_fun\n",
    "\n",
    "#output the value\n",
    "get_shape_val_functions('D1LN2N')[0]([0.5, 1])"
   ]
  },
  {
   "attachments": {},
   "cell_type": "markdown",
   "metadata": {},
   "source": [
    "jax.grad()"
   ]
  },
  {
   "cell_type": "code",
   "execution_count": 68,
   "metadata": {},
   "outputs": [
    {
     "name": "stdout",
     "output_type": "stream",
     "text": [
      "[Array(-0.5, dtype=float32, weak_type=True)]\n"
     ]
    },
    {
     "data": {
      "text/plain": [
       "jaxlib.xla_extension.ArrayImpl"
      ]
     },
     "execution_count": 68,
     "metadata": {},
     "output_type": "execute_result"
    }
   ],
   "source": [
    "def get_shape_grad_functions(elem_type):\n",
    "    shape_fns = get_shape_val_functions(elem_type)\n",
    "    return [jax.grad(f) for f in shape_fns]\n",
    "grad = get_shape_grad_functions('D1LN2N')[0]([0.2])\n",
    "print(grad)\n",
    "type(grad[0])"
   ]
  },
  {
   "cell_type": "code",
   "execution_count": 69,
   "metadata": {},
   "outputs": [
    {
     "data": {
      "text/plain": [
       "Array([[0.8872983 , 0.11270171],\n",
       "       [0.5       , 0.5       ],\n",
       "       [0.11270171, 0.8872983 ]], dtype=float32)"
      ]
     },
     "execution_count": 69,
     "metadata": {},
     "output_type": "execute_result"
    }
   ],
   "source": [
    "def get_quad_points(Gauss_Num, dim):\n",
    "    #Gauss_Num is the number of gauss point used in the integra\n",
    "    # This function is compatible with FEM and CFEM\n",
    "    \n",
    "    Gauss_Weight1D, Gauss_Point1D = GaussSet(Gauss_Num)\n",
    "    #get the weights and location for different number of gauss points\n",
    "    quad_points, quad_weights = [], []\n",
    "\n",
    "    for ipoint, iweight in zip(Gauss_Point1D, Gauss_Weight1D):\n",
    "        if dim < 2:\n",
    "            quad_points.append([ipoint])\n",
    "            quad_weights.append(iweight)\n",
    "        else:\n",
    "            for jpoint, jweight in zip(Gauss_Point1D, Gauss_Weight1D):\n",
    "                if dim < 3:\n",
    "                    quad_points.append([ipoint, jpoint])\n",
    "                    quad_weights.append(iweight * jweight)\n",
    "                else:\n",
    "                    for kpoint, kweight in zip(Gauss_Point1D, Gauss_Weight1D):\n",
    "                        quad_points.append([ipoint, jpoint, kpoint])\n",
    "                        quad_weights.append(iweight * jweight * kweight)\n",
    "                            \n",
    "            \n",
    "    quad_points = np.array(quad_points) # (quad_degree*dim, dim)\n",
    "    quad_weights = np.array(quad_weights) # (quad_degree,)\n",
    "    return quad_points, quad_weights\n",
    "    #quad_points is a list of list of all the quadrature coor\n",
    "    #quad_weights is a list of all the weights corresponding to the quadrature point\n",
    "\n",
    "def get_shape_vals(Gauss_Num, dim, elem_type):\n",
    "    \"\"\"Pre-compute shape function values\n",
    "\n",
    "    Returns\n",
    "    -------\n",
    "    shape_vals: ndarray\n",
    "        (8, 8) = (num_quads, num_nodes)  \n",
    "    \"\"\"\n",
    "    shape_val_fns = get_shape_val_functions(elem_type)\n",
    "    quad_points, quad_weights = get_quad_points(Gauss_Num, dim)\n",
    "    shape_vals = []\n",
    "    for quad_point in quad_points:\n",
    "        physical_shape_vals = []\n",
    "        for shape_val_fn in shape_val_fns:\n",
    "            physical_shape_val = shape_val_fn(quad_point) \n",
    "            physical_shape_vals.append(physical_shape_val)\n",
    " \n",
    "        shape_vals.append(physical_shape_vals)\n",
    "\n",
    "    shape_vals = np.array(shape_vals) # (num_quads, num_nodes)\n",
    "    # assert shape_vals.shape == (global_args['num_quads'], global_args['num_nodes'])\n",
    "    return shape_vals\n",
    "\n",
    "get_shape_vals(3, 1, 'D1LN2N')"
   ]
  },
  {
   "attachments": {},
   "cell_type": "markdown",
   "metadata": {},
   "source": [
    "Hard part: \n",
    "* understand how to compute jocobian\n",
    "* understand how to do gpu computation\n",
    "\n",
    "np.take\n",
    "\n",
    "a = [4, 3, 5, 7, 6, 8]\n",
    "indices = [0, 1, 4]\n",
    "np.take(a, indices)\n",
    "array([4, 3, 6])"
   ]
  },
  {
   "cell_type": "code",
   "execution_count": 70,
   "metadata": {},
   "outputs": [
    {
     "data": {
      "text/plain": [
       "Array([0, 1], dtype=int32)"
      ]
     },
     "execution_count": 70,
     "metadata": {},
     "output_type": "execute_result"
    }
   ],
   "source": [
    "XY = np.array([0,1])\n",
    "Elem_nodes =  np.array([0,1])\n",
    "np.take(XY, Elem_nodes, axis=0)"
   ]
  },
  {
   "cell_type": "code",
   "execution_count": 76,
   "metadata": {},
   "outputs": [
    {
     "name": "stdout",
     "output_type": "stream",
     "text": [
      "(2, 2, 1) Traced<ShapedArray(float32[2,2,1])>with<DynamicJaxprTrace(level=1/0)>\n",
      "physical coor is Traced<ShapedArray(int32[2])>with<DynamicJaxprTrace(level=1/0)>\n"
     ]
    },
    {
     "ename": "IndexError",
     "evalue": "Too many indices for array: 3 non-None/Ellipsis indices for dim 1.",
     "output_type": "error",
     "traceback": [
      "\u001b[0;31m---------------------------------------------------------------------------\u001b[0m",
      "\u001b[0;31mIndexError\u001b[0m                                Traceback (most recent call last)",
      "\u001b[0;32m/tmp/ipykernel_3673987/3871570343.py\u001b[0m in \u001b[0;36m<module>\u001b[0;34m\u001b[0m\n\u001b[1;32m     55\u001b[0m \u001b[0mXY\u001b[0m \u001b[0;34m=\u001b[0m \u001b[0mnp\u001b[0m\u001b[0;34m.\u001b[0m\u001b[0marray\u001b[0m\u001b[0;34m(\u001b[0m\u001b[0;34m[\u001b[0m\u001b[0;36m0\u001b[0m\u001b[0;34m,\u001b[0m\u001b[0;36m1\u001b[0m\u001b[0;34m]\u001b[0m\u001b[0;34m)\u001b[0m\u001b[0;34m\u001b[0m\u001b[0;34m\u001b[0m\u001b[0m\n\u001b[1;32m     56\u001b[0m \u001b[0mElem_nodes\u001b[0m \u001b[0;34m=\u001b[0m  \u001b[0mnp\u001b[0m\u001b[0;34m.\u001b[0m\u001b[0marray\u001b[0m\u001b[0;34m(\u001b[0m\u001b[0;34m[\u001b[0m\u001b[0;36m0\u001b[0m\u001b[0;34m,\u001b[0m\u001b[0;36m1\u001b[0m\u001b[0;34m]\u001b[0m\u001b[0;34m)\u001b[0m\u001b[0;34m\u001b[0m\u001b[0;34m\u001b[0m\u001b[0m\n\u001b[0;32m---> 57\u001b[0;31m \u001b[0mshape_grads_physical\u001b[0m\u001b[0;34m,\u001b[0m \u001b[0mJxW\u001b[0m \u001b[0;34m=\u001b[0m \u001b[0mget_shape_grads\u001b[0m\u001b[0;34m(\u001b[0m\u001b[0mGauss_Num\u001b[0m\u001b[0;34m,\u001b[0m \u001b[0mdim\u001b[0m\u001b[0;34m,\u001b[0m \u001b[0melem_type\u001b[0m\u001b[0;34m,\u001b[0m \u001b[0mXY\u001b[0m\u001b[0;34m,\u001b[0m \u001b[0mElem_nodes\u001b[0m\u001b[0;34m)\u001b[0m\u001b[0;34m\u001b[0m\u001b[0;34m\u001b[0m\u001b[0m\n\u001b[0m",
      "    \u001b[0;31m[... skipping hidden 12 frame]\u001b[0m\n",
      "\u001b[0;32m/tmp/ipykernel_3673987/3871570343.py\u001b[0m in \u001b[0;36mget_shape_grads\u001b[0;34m(Gauss_Num, dim, elem_type, XY, Elem_nodes)\u001b[0m\n\u001b[1;32m     35\u001b[0m     \u001b[0;31m# shape_grads:   (none,      num_quads, num_nodes, none, dim)\u001b[0m\u001b[0;34m\u001b[0m\u001b[0;34m\u001b[0m\u001b[0m\n\u001b[1;32m     36\u001b[0m     \u001b[0;31m# (num_cells, num_quads, num_nodes, dim, dim) -> (num_cells, num_quads, dim, dim)\u001b[0m\u001b[0;34m\u001b[0m\u001b[0;34m\u001b[0m\u001b[0m\n\u001b[0;32m---> 37\u001b[0;31m     \u001b[0mjacobian_dx_deta\u001b[0m \u001b[0;34m=\u001b[0m \u001b[0mnp\u001b[0m\u001b[0;34m.\u001b[0m\u001b[0msum\u001b[0m\u001b[0;34m(\u001b[0m\u001b[0mphysical_coos\u001b[0m\u001b[0;34m[\u001b[0m\u001b[0;34m:\u001b[0m\u001b[0;34m,\u001b[0m \u001b[0;32mNone\u001b[0m\u001b[0;34m,\u001b[0m \u001b[0;34m:\u001b[0m\u001b[0;34m,\u001b[0m \u001b[0;34m:\u001b[0m\u001b[0;34m,\u001b[0m \u001b[0;32mNone\u001b[0m\u001b[0;34m]\u001b[0m \u001b[0;34m*\u001b[0m \u001b[0mshape_grads\u001b[0m\u001b[0;34m[\u001b[0m\u001b[0;32mNone\u001b[0m\u001b[0;34m,\u001b[0m \u001b[0;34m:\u001b[0m\u001b[0;34m,\u001b[0m \u001b[0;34m:\u001b[0m\u001b[0;34m,\u001b[0m \u001b[0;32mNone\u001b[0m\u001b[0;34m,\u001b[0m \u001b[0;34m:\u001b[0m\u001b[0;34m]\u001b[0m\u001b[0;34m,\u001b[0m \u001b[0maxis\u001b[0m\u001b[0;34m=\u001b[0m\u001b[0;36m2\u001b[0m\u001b[0;34m)\u001b[0m \u001b[0;31m# dx/deta\u001b[0m\u001b[0;34m\u001b[0m\u001b[0;34m\u001b[0m\u001b[0m\n\u001b[0m\u001b[1;32m     38\u001b[0m     \u001b[0;31m# print(jacobian_dx_deta.shape)\u001b[0m\u001b[0;34m\u001b[0m\u001b[0;34m\u001b[0m\u001b[0m\n\u001b[1;32m     39\u001b[0m     \u001b[0mjacbian_det\u001b[0m \u001b[0;34m=\u001b[0m \u001b[0mnp\u001b[0m\u001b[0;34m.\u001b[0m\u001b[0mlinalg\u001b[0m\u001b[0;34m.\u001b[0m\u001b[0mdet\u001b[0m\u001b[0;34m(\u001b[0m\u001b[0mjacobian_dx_deta\u001b[0m\u001b[0;34m)\u001b[0m \u001b[0;31m# (num_cells, num_quads)\u001b[0m\u001b[0;34m\u001b[0m\u001b[0;34m\u001b[0m\u001b[0m\n",
      "    \u001b[0;31m[... skipping hidden 1 frame]\u001b[0m\n",
      "\u001b[0;32m~/.local/lib/python3.9/site-packages/jax/_src/numpy/lax_numpy.py\u001b[0m in \u001b[0;36m_rewriting_take\u001b[0;34m(arr, idx, indices_are_sorted, unique_indices, mode, fill_value)\u001b[0m\n\u001b[1;32m   3906\u001b[0m \u001b[0;34m\u001b[0m\u001b[0m\n\u001b[1;32m   3907\u001b[0m   \u001b[0mtreedef\u001b[0m\u001b[0;34m,\u001b[0m \u001b[0mstatic_idx\u001b[0m\u001b[0;34m,\u001b[0m \u001b[0mdynamic_idx\u001b[0m \u001b[0;34m=\u001b[0m \u001b[0m_split_index_for_jit\u001b[0m\u001b[0;34m(\u001b[0m\u001b[0midx\u001b[0m\u001b[0;34m,\u001b[0m \u001b[0marr\u001b[0m\u001b[0;34m.\u001b[0m\u001b[0mshape\u001b[0m\u001b[0;34m)\u001b[0m\u001b[0;34m\u001b[0m\u001b[0;34m\u001b[0m\u001b[0m\n\u001b[0;32m-> 3908\u001b[0;31m   return _gather(arr, treedef, static_idx, dynamic_idx, indices_are_sorted,\n\u001b[0m\u001b[1;32m   3909\u001b[0m                  unique_indices, mode, fill_value)\n\u001b[1;32m   3910\u001b[0m \u001b[0;34m\u001b[0m\u001b[0m\n",
      "\u001b[0;32m~/.local/lib/python3.9/site-packages/jax/_src/numpy/lax_numpy.py\u001b[0m in \u001b[0;36m_gather\u001b[0;34m(arr, treedef, static_idx, dynamic_idx, indices_are_sorted, unique_indices, mode, fill_value)\u001b[0m\n\u001b[1;32m   3915\u001b[0m             unique_indices, mode, fill_value):\n\u001b[1;32m   3916\u001b[0m   \u001b[0midx\u001b[0m \u001b[0;34m=\u001b[0m \u001b[0m_merge_static_and_dynamic_indices\u001b[0m\u001b[0;34m(\u001b[0m\u001b[0mtreedef\u001b[0m\u001b[0;34m,\u001b[0m \u001b[0mstatic_idx\u001b[0m\u001b[0;34m,\u001b[0m \u001b[0mdynamic_idx\u001b[0m\u001b[0;34m)\u001b[0m\u001b[0;34m\u001b[0m\u001b[0;34m\u001b[0m\u001b[0m\n\u001b[0;32m-> 3917\u001b[0;31m   \u001b[0mindexer\u001b[0m \u001b[0;34m=\u001b[0m \u001b[0m_index_to_gather\u001b[0m\u001b[0;34m(\u001b[0m\u001b[0mshape\u001b[0m\u001b[0;34m(\u001b[0m\u001b[0marr\u001b[0m\u001b[0;34m)\u001b[0m\u001b[0;34m,\u001b[0m \u001b[0midx\u001b[0m\u001b[0;34m)\u001b[0m  \u001b[0;31m# shared with _scatter_update\u001b[0m\u001b[0;34m\u001b[0m\u001b[0;34m\u001b[0m\u001b[0m\n\u001b[0m\u001b[1;32m   3918\u001b[0m   \u001b[0my\u001b[0m \u001b[0;34m=\u001b[0m \u001b[0marr\u001b[0m\u001b[0;34m\u001b[0m\u001b[0;34m\u001b[0m\u001b[0m\n\u001b[1;32m   3919\u001b[0m \u001b[0;34m\u001b[0m\u001b[0m\n",
      "\u001b[0;32m~/.local/lib/python3.9/site-packages/jax/_src/numpy/lax_numpy.py\u001b[0m in \u001b[0;36m_index_to_gather\u001b[0;34m(x_shape, idx, normalize_indices)\u001b[0m\n\u001b[1;32m   4016\u001b[0m                      normalize_indices: bool = True) -> _Indexer:\n\u001b[1;32m   4017\u001b[0m   \u001b[0;31m# Remove ellipses and add trailing slice(None)s.\u001b[0m\u001b[0;34m\u001b[0m\u001b[0;34m\u001b[0m\u001b[0m\n\u001b[0;32m-> 4018\u001b[0;31m   \u001b[0midx\u001b[0m \u001b[0;34m=\u001b[0m \u001b[0m_canonicalize_tuple_index\u001b[0m\u001b[0;34m(\u001b[0m\u001b[0mlen\u001b[0m\u001b[0;34m(\u001b[0m\u001b[0mx_shape\u001b[0m\u001b[0;34m)\u001b[0m\u001b[0;34m,\u001b[0m \u001b[0midx\u001b[0m\u001b[0;34m)\u001b[0m\u001b[0;34m\u001b[0m\u001b[0;34m\u001b[0m\u001b[0m\n\u001b[0m\u001b[1;32m   4019\u001b[0m \u001b[0;34m\u001b[0m\u001b[0m\n\u001b[1;32m   4020\u001b[0m   \u001b[0;31m# Check for advanced indexing:\u001b[0m\u001b[0;34m\u001b[0m\u001b[0;34m\u001b[0m\u001b[0m\n",
      "\u001b[0;32m~/.local/lib/python3.9/site-packages/jax/_src/numpy/lax_numpy.py\u001b[0m in \u001b[0;36m_canonicalize_tuple_index\u001b[0;34m(arr_ndim, idx, array_name)\u001b[0m\n\u001b[1;32m   4349\u001b[0m   \u001b[0mlen_without_none\u001b[0m \u001b[0;34m=\u001b[0m \u001b[0m_sum\u001b[0m\u001b[0;34m(\u001b[0m\u001b[0;36m1\u001b[0m \u001b[0;32mfor\u001b[0m \u001b[0me\u001b[0m \u001b[0;32min\u001b[0m \u001b[0midx\u001b[0m \u001b[0;32mif\u001b[0m \u001b[0me\u001b[0m \u001b[0;32mis\u001b[0m \u001b[0;32mnot\u001b[0m \u001b[0;32mNone\u001b[0m \u001b[0;32mand\u001b[0m \u001b[0me\u001b[0m \u001b[0;32mis\u001b[0m \u001b[0;32mnot\u001b[0m \u001b[0mEllipsis\u001b[0m\u001b[0;34m)\u001b[0m\u001b[0;34m\u001b[0m\u001b[0;34m\u001b[0m\u001b[0m\n\u001b[1;32m   4350\u001b[0m   \u001b[0;32mif\u001b[0m \u001b[0mlen_without_none\u001b[0m \u001b[0;34m>\u001b[0m \u001b[0marr_ndim\u001b[0m\u001b[0;34m:\u001b[0m\u001b[0;34m\u001b[0m\u001b[0;34m\u001b[0m\u001b[0m\n\u001b[0;32m-> 4351\u001b[0;31m     raise IndexError(\n\u001b[0m\u001b[1;32m   4352\u001b[0m         \u001b[0;34mf\"Too many indices for {array_name}: {len_without_none} \"\u001b[0m\u001b[0;34m\u001b[0m\u001b[0;34m\u001b[0m\u001b[0m\n\u001b[1;32m   4353\u001b[0m         f\"non-None/Ellipsis indices for dim {arr_ndim}.\")\n",
      "\u001b[0;31mIndexError\u001b[0m: Too many indices for array: 3 non-None/Ellipsis indices for dim 1."
     ]
    }
   ],
   "source": [
    "@partial(jax.jit, static_argnames=['Gauss_Num', 'dim', 'elem_type']) # must\n",
    "def get_shape_grads(Gauss_Num, dim, elem_type, XY, Elem_nodes):\n",
    "    \"\"\"Pre-compute shape function gradients\n",
    "\n",
    "    Returns\n",
    "    -------\n",
    "    shape_grads_physical: ndarray\n",
    "        (cell, num_quads, num_nodes, dim)  \n",
    "    JxW: ndarray #Jocobian time the weight matrix\n",
    "        (cell, num_quads)\n",
    "    \"\"\" \n",
    "    #XY       :  \n",
    "    #Ele_nodes:  \n",
    "    shape_grad_fns = get_shape_grad_functions(elem_type)\n",
    "    quad_points, quad_weights = get_quad_points(Gauss_Num, dim)\n",
    "    shape_grads = []\n",
    "    for quad_point in quad_points:\n",
    "        physical_shape_grads = []\n",
    "        for shape_grad_fn in shape_grad_fns:\n",
    "            # See Hughes, Thomas JR. The finite element method: linear static and dynamic finite element analysis. Courier Corporation, 2012.\n",
    "            # Page 147, Eq. (3.9.3)\n",
    "            #\\frac{\\partial N}{\\partial ksi}\n",
    "            physical_shape_grad = shape_grad_fn(quad_point)\n",
    "            physical_shape_grads.append(physical_shape_grad)\n",
    " \n",
    "        shape_grads.append(physical_shape_grads)\n",
    "\n",
    "    shape_grads = np.array(shape_grads) # (num_quads, num_nodes, dim)\n",
    "    print(shape_grads.shape, shape_grads)\n",
    "    # assert shape_grads.shape == (global_args['num_quads'], global_args['num_nodes'], global_args['dim'])\n",
    "\n",
    "    physical_coos = np.take(XY, Elem_nodes, axis=0) # (num_cells, num_nodes, dim)\n",
    "    print('physical coor is', physical_coos)\n",
    "    # physical_coos: (num_cells, none,      num_nodes, dim, none)\n",
    "    # shape_grads:   (none,      num_quads, num_nodes, none, dim)\n",
    "    # (num_cells, num_quads, num_nodes, dim, dim) -> (num_cells, num_quads, dim, dim)\n",
    "    jacobian_dx_deta = np.sum(physical_coos[:, None, :, :, None] * shape_grads[None, :, :, None, :], axis=2) # dx/deta\n",
    "    # print(jacobian_dx_deta.shape)\n",
    "    jacbian_det = np.linalg.det(jacobian_dx_deta) # (num_cells, num_quads)\n",
    "    # print(jacbian_det)\n",
    "    jacobian_deta_dx = np.linalg.inv(jacobian_dx_deta) # (num_cells, num_quads, dim, dim) # deta/dx\n",
    "    # print(jacobian_deta_dx.shape)\n",
    "    # (num_cell, num_quads, num_nodes, dim) matmul (num_cells, num_quads, dim, dim) -> (num_cell, num_quads, num_nodes, dim)\n",
    "    shape_grads_physical = shape_grads[None, :, :, :] @ jacobian_deta_dx\n",
    "    # print(shape_grads_physical.shape, shape_grads_physical)\n",
    "\n",
    "    # For first order FEM with 8 quad points, those quad weights are all equal to one\n",
    "    # quad_weights = 1.\n",
    "    JxW = jacbian_det * quad_weights[None, :]\n",
    "    return shape_grads_physical, JxW # (num_cells, num_quads, num_nodes, dim), (num_cells, num_quads)\n",
    "\n",
    "Gauss_Num = 2\n",
    "dim = 1\n",
    "elem_type = 'D1LN2N'\n",
    "XY = np.array([0,1])\n",
    "Elem_nodes =  np.array([0,1])\n",
    "shape_grads_physical, JxW = get_shape_grads(Gauss_Num, dim, elem_type, XY, Elem_nodes)"
   ]
  }
 ],
 "metadata": {
  "kernelspec": {
   "display_name": "base",
   "language": "python",
   "name": "python3"
  },
  "language_info": {
   "codemirror_mode": {
    "name": "ipython",
    "version": 3
   },
   "file_extension": ".py",
   "mimetype": "text/x-python",
   "name": "python",
   "nbconvert_exporter": "python",
   "pygments_lexer": "ipython3",
   "version": "3.9.13"
  },
  "orig_nbformat": 4
 },
 "nbformat": 4,
 "nbformat_minor": 2
}
